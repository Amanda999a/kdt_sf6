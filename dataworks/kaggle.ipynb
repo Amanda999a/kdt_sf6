{
 "cells": [
  {
   "cell_type": "code",
   "execution_count": null,
   "id": "bef6a8a1-af1c-4483-ac38-7206878558d0",
   "metadata": {},
   "outputs": [],
   "source": [
    "import pandas as pd\n",
    "index=[\"0\"]\n",
    "apples = pd.Series([30], index=index)\n",
    "bananas = pd.Series([21], index=index)\n",
    "\n",
    "fruits = pd.DataFrame({\n",
    "    'Apples' : apples,\n",
    "    'Bananas' : bananas\n",
    "})\n",
    "\n",
    "print(fruits)"
   ]
  },
  {
   "cell_type": "code",
   "execution_count": null,
   "id": "ac7be878-6f95-4dd0-92eb-4e8bf7c731f7",
   "metadata": {},
   "outputs": [],
   "source": [
    "# Your code goes here. Create a dataframe matching the above diagram and assign it to the variable fruit_sales.\n",
    "import pandas as pd\n",
    "index=[\"2017 Sales\", \"2018 Sales\"]\n",
    "apples = pd.Series([30, 41], index=index)\n",
    "bananas = pd.Series([21, 34], index=index)\n",
    "\n",
    "fruits_sales = pd.DataFrame({\n",
    "    'Apples' : apples,\n",
    "    'Bananas' : bananas\n",
    "})\n",
    "\n",
    "print(fruits_sales)"
   ]
  },
  {
   "cell_type": "code",
   "execution_count": null,
   "id": "d59fb3e0-5f48-4302-85cb-2ffa2100b639",
   "metadata": {},
   "outputs": [],
   "source": [
    "import pandas as pd\n",
    "\n",
    "data = [\"4 cups\", \"1 cup\", \"2 large\", \"1 can\"]\n",
    "index=[\"Flour\", \"Milk\", \"Eggs\", \"Spam\"]\n",
    "\n",
    "ingredients = pd.Series(data, index=index, name='Dinner')\n",
    "print(ingredients)"
   ]
  },
  {
   "cell_type": "code",
   "execution_count": null,
   "id": "cb936af7-d3b6-48a7-8f68-3ad5544eea68",
   "metadata": {},
   "outputs": [],
   "source": [
    "import csv\n",
    "with open(\"../input/wine-reviews/winemag-data_first150k.csv\",\"r\") as f:\n",
    "    reviews = csv.reader(f)\n",
    "    print(reviews)"
   ]
  },
  {
   "cell_type": "code",
   "execution_count": null,
   "id": "bf6cf92c-d82c-4045-b988-5da9e79a1043",
   "metadata": {},
   "outputs": [],
   "source": [
    "# Your code goes here\n",
    "import pandas as pd\n",
    "animals = pd.DataFrame({'Cows': [12, 20], 'Goats': [22, 19]}, index=['Year 1', 'Year 2'])\n",
    "animals.to_csv(\"./cows_and_goats.csv\")"
   ]
  }
 ],
 "metadata": {
  "kernelspec": {
   "display_name": "Python 3 (ipykernel)",
   "language": "python",
   "name": "python3"
  },
  "language_info": {
   "codemirror_mode": {
    "name": "ipython",
    "version": 3
   },
   "file_extension": ".py",
   "mimetype": "text/x-python",
   "name": "python",
   "nbconvert_exporter": "python",
   "pygments_lexer": "ipython3",
   "version": "3.12.4"
  }
 },
 "nbformat": 4,
 "nbformat_minor": 5
}
