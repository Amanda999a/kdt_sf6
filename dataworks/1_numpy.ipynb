{
 "cells": [
  {
   "cell_type": "code",
   "execution_count": 74,
   "id": "0000644b-d994-4ac3-a3f0-d04d9cf93708",
   "metadata": {},
   "outputs": [
    {
     "name": "stdout",
     "output_type": "stream",
     "text": [
      "[1 2 3 4]\n",
      "<class 'numpy.ndarray'>\n",
      "(4,)\n",
      "int32\n"
     ]
    }
   ],
   "source": [
    "import numpy as np\n",
    "# 일반 리스트와 numpy 리스트와 비교\n",
    "num1 = [1, 2, 3, 4] # 리스트\n",
    "num1\n",
    "num2 = [5, 6, 7, 8]\n",
    "# print(num1 + num2) # 산술덧셈이 아니라 연결 - [1, 2, 3, 4, 5, 6, 7, 8]\n",
    "\n",
    "# numpy로 리스트를 생성\n",
    "x= np.array([1, 2, 3, 4]) #1행 4열\n",
    "print(x)\n",
    "print(type(x))\n",
    "print(x.shape) #(1,4)인데 튜플형식으로 표시됨 - (4,)\n",
    "print(x.dtype) # 속성 명령어 int32 - 4바이트"
   ]
  },
  {
   "cell_type": "code",
   "execution_count": 76,
   "id": "33418676-31c0-4e11-bd95-89da495e31e3",
   "metadata": {},
   "outputs": [
    {
     "name": "stdout",
     "output_type": "stream",
     "text": [
      "[3. 6. 9.]\n",
      "[-1. -2. -3.]\n",
      "[ 2.  8. 18.]\n",
      "[0.5 0.5 0.5]\n",
      "float64\n"
     ]
    }
   ],
   "source": [
    "# numpy 연산\n",
    "# 1차원 리스트에서는 원소의 개수가 다르면 오류 발생. 2차원은 가능.\n",
    "x = np.array([1.0, 2.0, 3.0])\n",
    "y = np.array([2.0, 4.0, 6.0])\n",
    "\n",
    "print(x + y)\n",
    "print(x - y)\n",
    "print(x * y)\n",
    "print(x / y)\n",
    "print(x.dtype) # 8바이트"
   ]
  },
  {
   "cell_type": "code",
   "execution_count": 52,
   "id": "7a237bc7-a9fc-43cc-aedb-4626ab3055b2",
   "metadata": {},
   "outputs": [
    {
     "name": "stdout",
     "output_type": "stream",
     "text": [
      "['1' '2' 'a' 'b']\n"
     ]
    },
    {
     "data": {
      "text/plain": [
       "['생수', '감자', 100, True]"
      ]
     },
     "execution_count": 52,
     "metadata": {},
     "output_type": "execute_result"
    }
   ],
   "source": [
    "# Numpy는 한 가지 자료형만 허용\n",
    "a = np.array([1, 2, 'a', 'b'])\n",
    "print(a) # 문자형으로 됨. 작은 자료형에서 큰 자료형으로 변환됨(형변환)\n",
    "\n",
    "# 일반 리스트 - 여러가지 자료형 허용\n",
    "cart = ['생수', '감자', 100, True] # 파이썬에서만 가능한 구조 -> Numpy에서는 안된다\n",
    "cart"
   ]
  },
  {
   "cell_type": "code",
   "execution_count": 70,
   "id": "f16b2971-8273-431b-9a72-11e01d42c154",
   "metadata": {},
   "outputs": [
    {
     "name": "stdout",
     "output_type": "stream",
     "text": [
      "[[1 2]\n",
      " [3 4]]\n",
      "(2, 2)\n"
     ]
    },
    {
     "ename": "ValueError",
     "evalue": "setting an array element with a sequence. The requested array has an inhomogeneous shape after 1 dimensions. The detected shape was (2,) + inhomogeneous part.",
     "output_type": "error",
     "traceback": [
      "\u001b[1;31m---------------------------------------------------------------------------\u001b[0m",
      "\u001b[1;31mValueError\u001b[0m                                Traceback (most recent call last)",
      "Cell \u001b[1;32mIn[70], line 7\u001b[0m\n\u001b[0;32m      4\u001b[0m \u001b[38;5;28mprint\u001b[39m(a)\n\u001b[0;32m      5\u001b[0m \u001b[38;5;28mprint\u001b[39m(a\u001b[38;5;241m.\u001b[39mshape)\n\u001b[1;32m----> 7\u001b[0m b \u001b[38;5;241m=\u001b[39m \u001b[43mnp\u001b[49m\u001b[38;5;241;43m.\u001b[39;49m\u001b[43marray\u001b[49m\u001b[43m(\u001b[49m\u001b[43m[\u001b[49m\u001b[43m[\u001b[49m\u001b[38;5;241;43m1\u001b[39;49m\u001b[43m,\u001b[49m\u001b[38;5;241;43m2\u001b[39;49m\u001b[43m]\u001b[49m\u001b[43m,\u001b[49m\u001b[43m \u001b[49m\u001b[43m[\u001b[49m\u001b[38;5;241;43m3\u001b[39;49m\u001b[43m]\u001b[49m\u001b[43m]\u001b[49m\u001b[43m)\u001b[49m\n\u001b[0;32m      8\u001b[0m \u001b[38;5;28mprint\u001b[39m(b)\n",
      "\u001b[1;31mValueError\u001b[0m: setting an array element with a sequence. The requested array has an inhomogeneous shape after 1 dimensions. The detected shape was (2,) + inhomogeneous part."
     ]
    }
   ],
   "source": [
    "# Numpy 이차원 리스트\n",
    "# 내부 리스트의 원소의 갯수가 같아야 함 - 같지 않을 경우 오류 발생\n",
    "a = np.array([[1,2], [3,4]])\n",
    "print(a)\n",
    "print(a.shape)\n",
    "\n",
    "b = np.array([[1,2], [3]])\n",
    "print(b)"
   ]
  },
  {
   "cell_type": "code",
   "execution_count": 86,
   "id": "85329586-89b4-4cb4-ac5f-ea8e4e84bca6",
   "metadata": {},
   "outputs": [
    {
     "name": "stdout",
     "output_type": "stream",
     "text": [
      "[[0. 0. 0.]\n",
      " [0. 0. 0.]\n",
      " [0. 0. 0.]]\n",
      "(3, 3)\n",
      "[[1. 1. 1.]\n",
      " [1. 1. 1.]]\n"
     ]
    }
   ],
   "source": [
    "# Numpy 함수 \n",
    "# zeros() - 리스트의 모든 원소를 0으로 설정\n",
    "# ones() - 리스트의 모든 원소를 1으로 설정\n",
    "a1 = np.zeros((3, 3)) # 3행 3열을 0으로 채움\n",
    "print(a1)\n",
    "print(a1.shape)\n",
    "\n",
    "a2 = np.ones((2,3)) # 2행 3열을 0으로 채움\n",
    "print(a2)"
   ]
  },
  {
   "cell_type": "code",
   "execution_count": 106,
   "id": "acddbe53-2baf-4cdc-ba03-3a05cc3a51ba",
   "metadata": {},
   "outputs": [
    {
     "name": "stdout",
     "output_type": "stream",
     "text": [
      "range(0, 10)\n",
      "[0, 1, 2, 3, 4, 5, 6, 7, 8, 9]\n",
      "\n",
      "[ 1  2  3  4  5  6  7  8  9 10]\n",
      "[3 4 5 6 7 8]\n",
      "[3 5 7]\n"
     ]
    }
   ],
   "source": [
    "# np.arange()\n",
    "\n",
    "import numpy as np\n",
    "print(range(10))\n",
    "print(list(range(10)))\n",
    "print()\n",
    "\n",
    "a = np.arange(10) + 1\n",
    "print(a)\n",
    "\n",
    "a2 = np.arange(3, 9)\n",
    "print(a2)\n",
    "\n",
    "a3 = np.arange(3, 9, 2) # step 2 추가\n",
    "print(a3)"
   ]
  }
 ],
 "metadata": {
  "kernelspec": {
   "display_name": "Python 3 (ipykernel)",
   "language": "python",
   "name": "python3"
  },
  "language_info": {
   "codemirror_mode": {
    "name": "ipython",
    "version": 3
   },
   "file_extension": ".py",
   "mimetype": "text/x-python",
   "name": "python",
   "nbconvert_exporter": "python",
   "pygments_lexer": "ipython3",
   "version": "3.12.4"
  }
 },
 "nbformat": 4,
 "nbformat_minor": 5
}
