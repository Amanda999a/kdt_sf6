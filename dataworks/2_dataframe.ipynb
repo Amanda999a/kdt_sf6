{
 "cells": [
  {
   "cell_type": "markdown",
   "id": "37173382-64e7-4d58-acb0-7c98409ec22d",
   "metadata": {},
   "source": [
    "##### Pandas - DataFrame 클래스 - 행(row)과 열(column)로 이루어진 2차원 배열 리스트이다."
   ]
  },
  {
   "cell_type": "code",
   "execution_count": 2,
   "id": "821deba7-d074-4abc-923c-e536aee1e0cb",
   "metadata": {},
   "outputs": [
    {
     "data": {
      "text/html": [
       "<div>\n",
       "<style scoped>\n",
       "    .dataframe tbody tr th:only-of-type {\n",
       "        vertical-align: middle;\n",
       "    }\n",
       "\n",
       "    .dataframe tbody tr th {\n",
       "        vertical-align: top;\n",
       "    }\n",
       "\n",
       "    .dataframe thead th {\n",
       "        text-align: right;\n",
       "    }\n",
       "</style>\n",
       "<table border=\"1\" class=\"dataframe\">\n",
       "  <thead>\n",
       "    <tr style=\"text-align: right;\">\n",
       "      <th></th>\n",
       "      <th>영희</th>\n",
       "      <th>철수</th>\n",
       "    </tr>\n",
       "  </thead>\n",
       "  <tbody>\n",
       "    <tr>\n",
       "      <th>2018</th>\n",
       "      <td>143</td>\n",
       "      <td>165</td>\n",
       "    </tr>\n",
       "    <tr>\n",
       "      <th>2019</th>\n",
       "      <td>150</td>\n",
       "      <td>172</td>\n",
       "    </tr>\n",
       "    <tr>\n",
       "      <th>2020</th>\n",
       "      <td>157</td>\n",
       "      <td>175</td>\n",
       "    </tr>\n",
       "    <tr>\n",
       "      <th>2021</th>\n",
       "      <td>160</td>\n",
       "      <td>180</td>\n",
       "    </tr>\n",
       "  </tbody>\n",
       "</table>\n",
       "</div>"
      ],
      "text/plain": [
       "       영희   철수\n",
       "2018  143  165\n",
       "2019  150  172\n",
       "2020  157  175\n",
       "2021  160  180"
      ]
     },
     "execution_count": 2,
     "metadata": {},
     "output_type": "execute_result"
    }
   ],
   "source": [
    "import pandas as pd\n",
    "\n",
    "#1. 시리즈 결합해서 데이터 프레임 만들기\n",
    "index=[\"2018\", \"2019\", \"2020\", \"2021\"]\n",
    "\n",
    "younghee = pd.Series([143, 150, 157, 160], index=index)\n",
    "cheolsu = pd.Series([165, 172, 175, 180], index=index)\n",
    "\n",
    "growth = pd.DataFrame({\n",
    "    '영희' : younghee,\n",
    "    '철수' : cheolsu\n",
    "})\n",
    "\n",
    "growth"
   ]
  },
  {
   "cell_type": "code",
   "execution_count": 5,
   "id": "e5190c2e-0e5e-49a5-92fe-39d4d22da734",
   "metadata": {},
   "outputs": [
    {
     "data": {
      "text/html": [
       "<div>\n",
       "<style scoped>\n",
       "    .dataframe tbody tr th:only-of-type {\n",
       "        vertical-align: middle;\n",
       "    }\n",
       "\n",
       "    .dataframe tbody tr th {\n",
       "        vertical-align: top;\n",
       "    }\n",
       "\n",
       "    .dataframe thead th {\n",
       "        text-align: right;\n",
       "    }\n",
       "</style>\n",
       "<table border=\"1\" class=\"dataframe\">\n",
       "  <thead>\n",
       "    <tr style=\"text-align: right;\">\n",
       "      <th></th>\n",
       "      <th>영희</th>\n",
       "      <th>철수</th>\n",
       "    </tr>\n",
       "  </thead>\n",
       "  <tbody>\n",
       "    <tr>\n",
       "      <th>2018</th>\n",
       "      <td>143</td>\n",
       "      <td>165</td>\n",
       "    </tr>\n",
       "    <tr>\n",
       "      <th>2019</th>\n",
       "      <td>150</td>\n",
       "      <td>172</td>\n",
       "    </tr>\n",
       "    <tr>\n",
       "      <th>2020</th>\n",
       "      <td>157</td>\n",
       "      <td>175</td>\n",
       "    </tr>\n",
       "    <tr>\n",
       "      <th>2021</th>\n",
       "      <td>160</td>\n",
       "      <td>180</td>\n",
       "    </tr>\n",
       "  </tbody>\n",
       "</table>\n",
       "</div>"
      ],
      "text/plain": [
       "       영희   철수\n",
       "2018  143  165\n",
       "2019  150  172\n",
       "2020  157  175\n",
       "2021  160  180"
      ]
     },
     "execution_count": 5,
     "metadata": {},
     "output_type": "execute_result"
    }
   ],
   "source": [
    "# 2차원 리스트 데이터로 프레임 만들기(딕셔너리 아닐때)\n",
    "import pandas as pd\n",
    "\n",
    "data = [[143, 165], [150, 172], [157, 175], [160, 180]] # 2차원 클래스\n",
    "index=[\"2018\", \"2019\", \"2020\", \"2021\"]\n",
    "\n",
    "growth = pd.DataFrame(data, columns=['영희', '철수'], index=index)\n",
    "growth\n"
   ]
  },
  {
   "cell_type": "code",
   "execution_count": 69,
   "id": "218937d3-5056-4000-9f84-e4aad53c55d4",
   "metadata": {},
   "outputs": [
    {
     "data": {
      "text/html": [
       "<div>\n",
       "<style scoped>\n",
       "    .dataframe tbody tr th:only-of-type {\n",
       "        vertical-align: middle;\n",
       "    }\n",
       "\n",
       "    .dataframe tbody tr th {\n",
       "        vertical-align: top;\n",
       "    }\n",
       "\n",
       "    .dataframe thead th {\n",
       "        text-align: right;\n",
       "    }\n",
       "</style>\n",
       "<table border=\"1\" class=\"dataframe\">\n",
       "  <thead>\n",
       "    <tr style=\"text-align: right;\">\n",
       "      <th></th>\n",
       "      <th>영희</th>\n",
       "      <th>철수</th>\n",
       "    </tr>\n",
       "  </thead>\n",
       "  <tbody>\n",
       "    <tr>\n",
       "      <th>2018</th>\n",
       "      <td>143</td>\n",
       "      <td>165</td>\n",
       "    </tr>\n",
       "    <tr>\n",
       "      <th>2019</th>\n",
       "      <td>150</td>\n",
       "      <td>172</td>\n",
       "    </tr>\n",
       "    <tr>\n",
       "      <th>2020</th>\n",
       "      <td>157</td>\n",
       "      <td>175</td>\n",
       "    </tr>\n",
       "    <tr>\n",
       "      <th>2021</th>\n",
       "      <td>160</td>\n",
       "      <td>180</td>\n",
       "    </tr>\n",
       "  </tbody>\n",
       "</table>\n",
       "</div>"
      ],
      "text/plain": [
       "       영희   철수\n",
       "2018  143  165\n",
       "2019  150  172\n",
       "2020  157  175\n",
       "2021  160  180"
      ]
     },
     "execution_count": 69,
     "metadata": {},
     "output_type": "execute_result"
    }
   ],
   "source": [
    "# 일반적인 데이터프레임 만들기\n",
    "index=[\"2018\", \"2019\", \"2020\", \"2021\"]\n",
    "\n",
    "data = {\n",
    "    '영희' : [143, 150, 157, 160],\n",
    "    '철수' : [165, 172, 175, 180]\n",
    "}\n",
    "growth = pd.DataFrame(data, index=index)\n",
    "growth\n",
    "# print(growth)\n",
    "# print(growth.columns) # 칼럼 - 영희, 철수\n",
    "# print(growth.values) #칼럼값\n",
    "\n",
    "# 열 선택\n",
    "# print(growth['철수'])\n",
    "# print(growth['영희', '철수']) - key error. 리스트니까 [[]]으로 해결 가능. 안의 괄호는 인덱스. 밖의 괄호는 검색\n",
    "# 열과 이름까지 같이 선택\n",
    "# print(growth[['철수']])\n",
    "# print(growth[['영희', '철수']])\n",
    "\n",
    "# 행 선택\n",
    "# # loc[행(문자), iloc[행(숫자)]\n",
    "# print(growth.loc['2020']) # 행으로 조회\n",
    "# print(growth.iloc[2]) # 인덱스로 조회\n",
    "# # 다중 행 선택\n",
    "# print(growth.loc[['2020', '2021']])\n",
    "# print(growth.iloc[[2, 3]])"
   ]
  },
  {
   "cell_type": "code",
   "execution_count": 79,
   "id": "3ead70a4-03f5-4ae9-a11b-a66f62cb7047",
   "metadata": {},
   "outputs": [
    {
     "name": "stdout",
     "output_type": "stream",
     "text": [
      "       영희   철수\n",
      "연도            \n",
      "2018  143  165\n",
      "2019  150  172\n",
      "2020  157  175\n",
      "2021  160  180\n"
     ]
    }
   ],
   "source": [
    "import pandas as pd\n",
    "\n",
    "# 인덱스를 칼럼 인덱스로 설정하기\n",
    "data = {\n",
    "    '연도' : [\"2018\", \"2019\", \"2020\", \"2021\"],\n",
    "    '영희' : [143, 150, 157, 160],\n",
    "    '철수' : [165, 172, 175, 180]\n",
    "}\n",
    "growth = pd.DataFrame(data)\n",
    "growth = growth.set_index('연도')\n",
    "print(growth)"
   ]
  },
  {
   "cell_type": "code",
   "execution_count": 87,
   "id": "041f093a-034f-4370-8283-fd66c1a71010",
   "metadata": {},
   "outputs": [
    {
     "name": "stdout",
     "output_type": "stream",
     "text": [
      "\n",
      "175\n",
      "175\n",
      "       영희   철수\n",
      "2018  143  165\n",
      "2019  150  172\n",
      "2020  157  175\n",
      "2021  160  180\n",
      "       영희   철수\n",
      "2018  143  165\n",
      "2020  157  175\n",
      "       영희   철수\n",
      "2018  143  165\n",
      "2019  150  172\n",
      "2020  157  175\n",
      "       영희   철수\n",
      "2021  160  180\n",
      "2020  157  175\n",
      "2019  150  172\n",
      "2018  143  165\n"
     ]
    }
   ],
   "source": [
    "index=[\"2018\", \"2019\", \"2020\", \"2021\"]\n",
    "\n",
    "data = {\n",
    "    '영희' : [143, 150, 157, 160],\n",
    "    '철수' : [165, 172, 175, 180]\n",
    "}\n",
    "growth = pd.DataFrame(data, index=index)\n",
    "# print(growth)\n",
    "print()\n",
    "# 특정요소 1개 선택 - 행과 열을 모두 알아야함\n",
    "# loc[행(문자), 열(문자)], iloc[행(숫자), 열(숫자)]\n",
    "print(growth.loc['2020', '철수'])\n",
    "print(growth.iloc[2, 1])\n",
    "\n",
    "# 행과 열을 전체 선택(범위연산자 - :), 3번째 값이 (step-간격)\n",
    "# iloc[a:b:c] - (a-시작인덱스, b- 끝인덱스, c- 간격)\n",
    "# a가 생략되었을때 0으로 간주. b가 생략되면 끝인덱스으로 간주. c는 1로 간주\n",
    "print(growth.iloc[ : : 1 ])  # 전체를 1행 간격으로 출력\n",
    "print(growth.iloc[ : : 2])  # 전체를 2행 간격으로 출력\n",
    "print(growth.iloc[0 :3 : 1])  # 2행까지 1행 간격으로 출력\n",
    "print(growth.iloc[ : : -1])  # 전체를 역순으로 출력"
   ]
  },
  {
   "cell_type": "code",
   "execution_count": 11,
   "id": "bd15a74e-b985-4813-b7eb-6eec4b4b355e",
   "metadata": {},
   "outputs": [
    {
     "name": "stdout",
     "output_type": "stream",
     "text": [
      "       영희   철수\n",
      "2018  143  165\n",
      "2019  150  172\n",
      "2020  157  175\n",
      "2021  160  180\n",
      "       영희   철수   시현\n",
      "2018  143  165  155\n",
      "2019  150  172  160\n",
      "2020  157  175  165\n",
      "2021  160  180  170\n",
      "       영희   철수   시현\n",
      "2018  143  165  155\n",
      "2019  150  172  160\n",
      "2020  157  175  165\n",
      "2021  160  180  170\n",
      "2022  162  181  172\n",
      "       영희   철수   시현\n",
      "2018  143  165  155\n",
      "2019  150  172  160\n",
      "2021  160  180  170\n",
      "2022  162  181  172\n",
      "       영희   시현\n",
      "2018  143  155\n",
      "2019  150  160\n",
      "2020  157  165\n",
      "2021  160  170\n",
      "2022  162  172\n"
     ]
    }
   ],
   "source": [
    "import pandas as pd\n",
    "\n",
    "index=[\"2018\", \"2019\", \"2020\", \"2021\"]\n",
    "\n",
    "data = {\n",
    "    '영희' : [143, 150, 157, 160],\n",
    "    '철수' : [165, 172, 175, 180]\n",
    "}\n",
    "growth = pd.DataFrame(data, index=index)\n",
    "print(growth)\n",
    "\n",
    "# 열 추가 - 사람 1명 추가. 열일 때는 loc 안씀\n",
    "growth['시현'] = [155, 160, 165, 170]\n",
    "print(growth)\n",
    "\n",
    "# 행 추가 - 2022년\n",
    "growth.loc['2022'] = [162, 181, 172]\n",
    "print(growth)\n",
    "# print()\n",
    "\n",
    "# 행 삭제 - 2020년, drop()\n",
    "# # 복사본 생성 - 원본 유지 목적(copy () 깊은 복사 ; 원본과 관계가 없음(원본과 별도로 삭제, 수정) <-> 얕은 복사 ; 원본과 관계 있음))\n",
    "growth2 = growth.copy()\n",
    "growth2 = growth2.drop('2020', axis=0) # 행 삭제 axis=0 생략가능 (행이 0번 열이 1번. 열은 생략 불가능)\n",
    "print(growth2)\n",
    "\n",
    "# # 열 삭제 - 철수\n",
    "growth3 = growth.copy()\n",
    "growth3 = growth3.drop('철수', axis=1)\n",
    "print(growth3)"
   ]
  },
  {
   "cell_type": "code",
   "execution_count": 27,
   "id": "105e9e04-23e3-4d08-96ef-6e6650b2a3e4",
   "metadata": {},
   "outputs": [
    {
     "name": "stdout",
     "output_type": "stream",
     "text": [
      "[1, 10, 3, 4] [1, 10, 3, 4]\n",
      "[1, 2, 3, 4] [1, 10, 3, 4]\n"
     ]
    }
   ],
   "source": [
    "# 얕은 복사와 깊은 복사\n",
    "# 얕은 복사 - 복사본을 수정하면 원본도 수정된다\n",
    "# 깊은 복사 - 복사본을 수정해도 원본은 유지된다. 파이썬은 copy() 사용\n",
    "a = [1, 2, 3, 4]\n",
    "a\n",
    "\n",
    "b = a # a 리스트를 b에 저장함\n",
    "b\n",
    "b[1] = 10\n",
    "b\n",
    "print(a,b) # b리스트를 고쳤는데 a까지 같이 동기화 ; 얉은 복사.\n",
    "\n",
    "# 깊은 복사\n",
    "c = [1, 2, 3, 4]\n",
    "c\n",
    "d = c.copy()\n",
    "d\n",
    "d[1] = 10\n",
    "print(c, d) # d만 바뀜 ; 깊은 복"
   ]
  },
  {
   "cell_type": "code",
   "execution_count": 45,
   "id": "e3ec7a73-7e43-4efb-afbb-17d692af92d5",
   "metadata": {},
   "outputs": [
    {
     "name": "stdout",
     "output_type": "stream",
     "text": [
      "       영희   철수\n",
      "2018  143  165\n",
      "2019  150  172\n",
      "2020  157  177\n",
      "2021  160  180\n",
      "Index(['영희', '철수'], dtype='object')\n",
      "철수\n",
      "      younghee  cheolsu\n",
      "2018       143      165\n",
      "2019       150      172\n",
      "2020       157      177\n",
      "2021       160      180\n"
     ]
    }
   ],
   "source": [
    "# 데이터 요소 수정(변경)\n",
    "import pandas as pd\n",
    "\n",
    "index=[\"2018\", \"2019\", \"2020\", \"2021\"]\n",
    "\n",
    "data = {\n",
    "    '영희' : [143, 150, 157, 160],\n",
    "    '철수' : [165, 172, 175, 180]\n",
    "}\n",
    "growth = pd.DataFrame(data, index=index)\n",
    "# print(growth)\n",
    "\n",
    "# 2020년 철수의 키 177로 변경\n",
    "# 요소 선택 - loc[행, 열]\n",
    "growth.loc['2020', '철수'] = 177\n",
    "print(growth)\n",
    "\n",
    "# 칼럼 이름 변경\n",
    "#'영희'를 'younghee'\n",
    "growth.columns # 칼럼검색\n",
    "print(growth.columns)\n",
    "print(growth.columns[1])\n",
    "# 칼럼이름 변경 - rename(columns = {변경전: 변경후}, inplace = True) # inplace=True(즉시실행)\n",
    "growth.rename(columns = {'영희' : 'younghee', '철수' : 'cheolsu'}, inplace = True)\n",
    "print(growth)"
   ]
  },
  {
   "cell_type": "code",
   "execution_count": 136,
   "id": "3f47d8db-7de3-415f-95ae-94fdef44947a",
   "metadata": {},
   "outputs": [
    {
     "name": "stdout",
     "output_type": "stream",
     "text": [
      "       영희   철수\n",
      "2018  143  165\n",
      "2019  150  172\n",
      "2020  157  175\n",
      "2021  160  180\n"
     ]
    }
   ],
   "source": [
    "\n",
    "import pandas as pd\n",
    "\n",
    "index=[\"2018\", \"2019\", \"2020\", \"2021\"]\n",
    "\n",
    "data = {\n",
    "    '영희' : [143, 150, 157, 160],\n",
    "    '철수' : [165, 172, 175, 180]\n",
    "}\n",
    "growth = pd.DataFrame(data, index=index)\n",
    "\n",
    "# csv 파일 만들기 - to_csv(경로)\n",
    "# growth.to_csv('./datas/growth.csv')\n",
    "\n",
    "# csv 파일 읽기 - to_read_csv(경로). pd로 읽어와야함\n",
    "growth = pd.read_csv('./datas/growth.csv', index_col=0)\n",
    "print(growth)\n"
   ]
  },
  {
   "cell_type": "code",
   "execution_count": 90,
   "id": "acf1d35a-2659-4e31-8c22-5c708da90679",
   "metadata": {},
   "outputs": [
    {
     "name": "stdout",
     "output_type": "stream",
     "text": [
      "    국어  수학   영어\n",
      "재천  90  80   85\n",
      "선영  80  75   95\n",
      "일성  70  95  100\n"
     ]
    }
   ],
   "source": [
    "#실습2\n",
    "\n",
    "index=[\"재천\", \"선영\", \"일성\"]\n",
    "\n",
    "data = {\n",
    "    '국어' : [90, 80, 70],\n",
    "    '수학' : [80, 75, 95],\n",
    "    '영어' : [85, 95, 100]\n",
    "}\n",
    "score = pd.DataFrame(data, index=index)\n",
    "print(score)"
   ]
  }
 ],
 "metadata": {
  "kernelspec": {
   "display_name": "Python 3 (ipykernel)",
   "language": "python",
   "name": "python3"
  },
  "language_info": {
   "codemirror_mode": {
    "name": "ipython",
    "version": 3
   },
   "file_extension": ".py",
   "mimetype": "text/x-python",
   "name": "python",
   "nbconvert_exporter": "python",
   "pygments_lexer": "ipython3",
   "version": "3.12.4"
  }
 },
 "nbformat": 4,
 "nbformat_minor": 5
}
