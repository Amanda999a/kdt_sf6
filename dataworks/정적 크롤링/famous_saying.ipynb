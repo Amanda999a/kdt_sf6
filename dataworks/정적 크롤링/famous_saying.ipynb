{
 "cells": [
  {
   "cell_type": "code",
   "execution_count": 25,
   "metadata": {},
   "outputs": [
    {
     "data": {
      "text/plain": [
       "['/author/Albert-Einstein',\n",
       " '/author/J-K-Rowling',\n",
       " '/author/Albert-Einstein',\n",
       " '/author/Jane-Austen',\n",
       " '/author/Marilyn-Monroe',\n",
       " '/author/Albert-Einstein',\n",
       " '/author/Andre-Gide',\n",
       " '/author/Thomas-A-Edison',\n",
       " '/author/Eleanor-Roosevelt',\n",
       " '/author/Steve-Martin']"
      ]
     },
     "execution_count": 25,
     "metadata": {},
     "output_type": "execute_result"
    }
   ],
   "source": [
    "import requests as req\n",
    "from bs4 import BeautifulSoup\n",
    "\n",
    "url = \"https://quotes.toscrape.com/\"\n",
    "res = req.get(url)\n",
    "# print(res.text)\n",
    "\n",
    "html = BeautifulSoup(res.text,\"html.parser\")\n",
    "\n",
    "quote_div = html.find_all('div', class_=\"quote\") # 여러개일때  find_all\n",
    "# print(quote_div)\n",
    "\n",
    "# 명언\n",
    "# quote_span = html.find_all('span', class_=\"text\")\n",
    "# print(quote_span)\n",
    "quote_text = html.select('div.quote > span.text')\n",
    "# print(quote_text)\n",
    "# print(len(quote_text))\n",
    "# print(quote_text[0].text)\n",
    "\n",
    "# 명언 10개 출력\n",
    "# for quote in quote_text:\n",
    "#     print(quote.text)\n",
    "\n",
    "# 리스트 내포 ; 빈 []에 a.append로 쓰는 걸 한줄로(.text는 태그 벗겨낸 것)\n",
    "[i.text for i in quote_text]\n",
    "'''\n",
    "a = []\n",
    "for i in quote_text:\n",
    "    a.append(i.text)\n",
    "print(a)\n",
    "'''\n",
    "# 명언 말한 사람\n",
    "quote_author = html.select('div.quote > span > small.author')\n",
    "# print(quote_author)\n",
    "\n",
    "[i.text for i in quote_author]\n",
    "\n",
    "# 말한 사람 링크\n",
    "quote_link = html.select('div.quote > span > a')\n",
    "# print(quote_link)\n",
    "# print(quote_link[0].attrs) # attrs 속성 - 딕셔너리. 검색시 key로 검색\n",
    "# print(quote_link[0]['href'])\n",
    "[i['href'] for i in quote_link]\n",
    "\n"
   ]
  },
  {
   "cell_type": "code",
   "execution_count": null,
   "metadata": {},
   "outputs": [],
   "source": []
  }
 ],
 "metadata": {
  "kernelspec": {
   "display_name": "Python 3",
   "language": "python",
   "name": "python3"
  },
  "language_info": {
   "codemirror_mode": {
    "name": "ipython",
    "version": 3
   },
   "file_extension": ".py",
   "mimetype": "text/x-python",
   "name": "python",
   "nbconvert_exporter": "python",
   "pygments_lexer": "ipython3",
   "version": "3.12.4"
  }
 },
 "nbformat": 4,
 "nbformat_minor": 2
}
