{
 "cells": [
  {
   "cell_type": "code",
   "execution_count": 19,
   "metadata": {},
   "outputs": [
    {
     "name": "stdout",
     "output_type": "stream",
     "text": [
      "\n",
      "\n",
      "월/화/목/금/일 10:00 ~ 18:00\n",
      "수/토 10:00 ~ 21:00\n",
      "   * 입장 마감은 폐관30분 전까지\n",
      "\n",
      "\n",
      "\n",
      "\n",
      "무료 특별전시는 유료\n",
      "\n",
      "\n"
     ]
    },
    {
     "data": {
      "text/plain": [
       "'권장답변\\n\\ninfos = html.select(\"ul.main-info-area > li\")\\n\\nprint(infos[0].text.strip())\\nprint(infos[1].text.strip())\\n\\n'"
      ]
     },
     "execution_count": 19,
     "metadata": {},
     "output_type": "execute_result"
    }
   ],
   "source": [
    "# 실습1\n",
    "import requests\n",
    "from bs4 import BeautifulSoup\n",
    "\n",
    "url = \"https://www.museum.go.kr/site/main/home\"\n",
    "response = requests.get(url)\n",
    "# print(response)\n",
    "\n",
    "soup = BeautifulSoup(response.text, \"html.parser\")\n",
    "info_time = soup.select(\"div.info-txt.info-time\")\n",
    "info_cost = soup.select(\"div.info-txt.info-admission\")\n",
    "\n",
    "for info in info_time:\n",
    "    print(info.text)\n",
    "for info in info_cost:\n",
    "    print(info.text)\n",
    "\n",
    "\n",
    "'''권장답변\n",
    "\n",
    "infos = html.select(\"ul.main-info-area > li\")\n",
    "\n",
    "\n",
    "print(infos[0].text.strip())\n",
    "print(infos[1].text.strip())\n",
    "\n",
    "#관람 시간\n",
    "info_time = html.select_one('li.info')\n",
    "print(info_time.text.strip())\n",
    "\n",
    "#관람료\n",
    "admission = html.select_one(\"li.admission\")\n",
    "print(admission.text.strip())\n",
    "\n",
    "'''\n",
    "\n"
   ]
  }
 ],
 "metadata": {
  "kernelspec": {
   "display_name": "base",
   "language": "python",
   "name": "python3"
  },
  "language_info": {
   "codemirror_mode": {
    "name": "ipython",
    "version": 3
   },
   "file_extension": ".py",
   "mimetype": "text/x-python",
   "name": "python",
   "nbconvert_exporter": "python",
   "pygments_lexer": "ipython3",
   "version": "3.12.4"
  }
 },
 "nbformat": 4,
 "nbformat_minor": 2
}
