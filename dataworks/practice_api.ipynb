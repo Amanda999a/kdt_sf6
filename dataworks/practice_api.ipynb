{
 "cells": [
  {
   "cell_type": "code",
   "execution_count": 39,
   "id": "e1ce7738-eb41-42ba-ae91-46cbc32ff712",
   "metadata": {},
   "outputs": [
    {
     "name": "stdout",
     "output_type": "stream",
     "text": [
      "<OpenAPI_ServiceResponse>\n",
      "\t<cmmMsgHeader>\n",
      "\t\t<errMsg>SERVICE ERROR</errMsg>\n",
      "\t\t<returnAuthMsg>SERVICE_KEY_IS_NOT_REGISTERED_ERROR</returnAuthMsg>\n",
      "\t\t<returnReasonCode>30</returnReasonCode>\n",
      "\t</cmmMsgHeader>\n",
      "</OpenAPI_ServiceResponse>\n"
     ]
    }
   ],
   "source": [
    "import requests\n",
    "\n",
    "serviceKey = \"1rw1sndO5Dlaw3mBOdwC9PFDSpQAhFYITkLplkV3lA4hUrZMlqGfiUgCrVZaM3G5Xva%2FUvO1FxhiVLDu%2F1qOKw%3D%3D\"  # 일반 인증키 (Decoding)\n",
    "\n",
    "url = 'http://apis.data.go.kr/B551182/yadmOpCloInfoService/getHospPharmacyOpCloList'\n",
    "params ={'serviceKey' : serviceKey, 'numOfRows' : '10', 'pageNo' : '1', 'crtrYm' : '202303', 'yadmTp' : '1', 'opCloTp' : '2' }\n",
    "\n",
    "response = requests.get(url, params=params)\n",
    "# print(response.content)  # bytes 형태여서 보기 힘듦.\n",
    "content = response.content.decode('utf-8')  # utf-8로 디코딩함. \n",
    "print(content)\n"
   ]
  },
  {
   "cell_type": "code",
   "execution_count": 55,
   "id": "24049978-e08c-4570-8d7f-79ec7b833354",
   "metadata": {},
   "outputs": [
    {
     "name": "stdout",
     "output_type": "stream",
     "text": [
      "b'<?xml version=\"1.0\" encoding=\"UTF-8\"?>\\n<dbs>\\n    <db>\\n        <returncode>02</returncode>\\n        <errmsg>SERVICE KEY IS NOT REGISTERED ERROR</errmsg>\\n        <responsetime>2024-08-27 17:59:10</responsetime>\\n    </db>\\n</dbs>\\n'\n",
      "<?xml version=\"1.0\" encoding=\"UTF-8\"?>\n",
      "<dbs>\n",
      "    <db>\n",
      "        <returncode>02</returncode>\n",
      "        <errmsg>SERVICE KEY IS NOT REGISTERED ERROR</errmsg>\n",
      "        <responsetime>2024-08-27 17:59:10</responsetime>\n",
      "    </db>\n",
      "</dbs>\n",
      "\n"
     ]
    }
   ],
   "source": [
    "import requests\n",
    "\n",
    "serviceKey = \"8bac8d6b2dc64a18880e6f7812d5cbe1\"  # 일반 인증키 (Decoding)\n",
    "\n",
    "url = 'http://www.kopis.or.kr/openApi/restful/prfplc?service=8bac8d6b2dc64a18880e6f7812d5cbe1&cpage=1&rows=5&shprfnmfct=예술의전당'\n",
    "\n",
    "response = requests.get(url)\n",
    "print(response.content)  # bytes 형태여서 보기 힘듦.\n",
    "content = response.content.decode('utf-8')\n",
    "print(content)\n",
    "\n"
   ]
  },
  {
   "cell_type": "code",
   "execution_count": 63,
   "id": "a42488e7-3cfe-4317-98b7-3b8f43f5c314",
   "metadata": {},
   "outputs": [
    {
     "name": "stdout",
     "output_type": "stream",
     "text": [
      "b'<?xml version=\"1.0\" encoding=\"UTF-8\"?>\\n<dbs/>\\n'\n",
      "1\n",
      "<dbs/>\n"
     ]
    }
   ],
   "source": [
    "import requests\n",
    "import pandas as pd\n",
    "import bs4\n",
    "\n",
    "serviceKey = \"8bac8d6b2dc64a18880e6f7812d5cbe1\"  # 일반 인증키 (Decoding)\n",
    "\n",
    "url = 'http://www.kopis.or.kr/openApi/restful/prfplc?service=8bac8d6b2dc64a18880e6f7812d5cbe1&cpage=200&rows=100&area=서울'\n",
    "\n",
    "response = requests.get(url)\n",
    "print(response.content)  # bytes 형태여서 보기 힘듦.\n",
    "content = response.content.decode('utf-8')\n",
    "\n",
    "\n",
    "\n",
    "xml_obj = bs4.BeautifulSoup(content,'lxml-xml')\n",
    "rows = xml_obj.findAll()\n",
    "print (len(rows))\n",
    "print(rows[0])"
   ]
  },
  {
   "cell_type": "code",
   "execution_count": null,
   "id": "72f5e2f2-457a-458c-8bc8-8c67996f1430",
   "metadata": {},
   "outputs": [],
   "source": [
    "import pandas as pd\n",
    "df = pd.DataFrame()\n",
    "\n",
    "# xml 안의 데이터 수집\n",
    "for row in rows:\n",
    "    result_set = row.find_all()  # 모든 태그들이 result_set에 저장됨.\n",
    "    tmp_dict = dict()\n",
    "    for result in result_set:\n",
    "        tmp_dict[result.name] = result.text  # {태그이름:태그값} 형태의 dict\n",
    "    # df = df.append(tmp_dict, ignore_index=True)  # 그냥 이렇게 해도 되는데 warning이 신경쓰인다면 아래 두 줄 사용. \n",
    "    tmp_dict_df = pd.DataFrame([tmp_dict])\n",
    "    df = pd.concat([df, tmp_dict_df], ignore_index=True)"
   ]
  }
 ],
 "metadata": {
  "kernelspec": {
   "display_name": "Python 3 (ipykernel)",
   "language": "python",
   "name": "python3"
  },
  "language_info": {
   "codemirror_mode": {
    "name": "ipython",
    "version": 3
   },
   "file_extension": ".py",
   "mimetype": "text/x-python",
   "name": "python",
   "nbconvert_exporter": "python",
   "pygments_lexer": "ipython3",
   "version": "3.12.4"
  }
 },
 "nbformat": 4,
 "nbformat_minor": 5
}
