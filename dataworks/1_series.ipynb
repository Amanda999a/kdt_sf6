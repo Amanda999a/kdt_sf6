{
 "cells": [
  {
   "cell_type": "markdown",
   "id": "79c2b371-e101-4647-b9ad-2547aca60a43",
   "metadata": {},
   "source": [
    "###### Series 클래스 - 데이터(리스트, 튜플, 딕셔너리)가 순차적으로 나열된 1차원 리스트의 형태를 갖는다."
   ]
  },
  {
   "cell_type": "code",
   "execution_count": 5,
   "id": "a005c17e-cc41-4c8c-af50-b4941de10d79",
   "metadata": {},
   "outputs": [
    {
     "name": "stdout",
     "output_type": "stream",
     "text": [
      "a    1\n",
      "b    2\n",
      "c    3\n",
      "dtype: int64\n",
      "<class 'pandas.core.series.Series'>\n"
     ]
    }
   ],
   "source": [
    "import pandas as pd\n",
    "# 딕셔너리로 시리즈 만들기('키'가 인덱스)\n",
    "dic_data = {'a': 1, 'b' : 2, 'c' : 3} # key 값이 인덱스\n",
    "# Series(데이터, 인덱스(행의 이름표))\n",
    "sr = pd.Series(dic_data)\n",
    "print(sr)\n",
    "print(type(sr))"
   ]
  },
  {
   "cell_type": "code",
   "execution_count": 17,
   "id": "3ad84545-1b12-4739-b9ea-9be829bc9fba",
   "metadata": {},
   "outputs": [
    {
     "name": "stdout",
     "output_type": "stream",
     "text": [
      "0    2024-08-22\n",
      "1            10\n",
      "2         apple\n",
      "3          True\n",
      "dtype: object\n",
      "RangeIndex(start=0, stop=4, step=1)\n",
      "['2024-08-22' 10 'apple' True]\n"
     ]
    }
   ],
   "source": [
    "# 리스트로 시리즈 만들기(기본 인덱스 0, 1, ..)\n",
    "list_data = ['2024-08-22', 10, 'apple', True] #자료형 값이 다 다름\n",
    "\n",
    "# 인덱스를 지정하지 않은 경우\n",
    "sr = pd.Series(list_data)\n",
    "print(sr) # 시리즈 출력\n",
    "print(sr.index) # 인덱스 출력\n",
    "print(sr.values) # 데이터 자료 값"
   ]
  },
  {
   "cell_type": "code",
   "execution_count": 41,
   "id": "4e71e0d3-c84f-4248-8dbd-d8338135dd6a",
   "metadata": {},
   "outputs": [
    {
     "name": "stdout",
     "output_type": "stream",
     "text": [
      "2018    143\n",
      "2019    150\n",
      "2020    157\n",
      "2021    160\n",
      "Name: Height, dtype: int64\n",
      "150\n",
      "150\n",
      "143\n"
     ]
    }
   ],
   "source": [
    "import pandas as pd\n",
    "\n",
    "height = [143, 150, 157, 160]\n",
    "index=[\"2018\", \"2019\", \"2020\", \"2021\"]\n",
    "\n",
    "# 인덱스를 지정한 경우\n",
    "growth = pd.Series(height, index=index, name='Height')\n",
    "print(growth)\n",
    "print(growth['2019'])\n",
    "# loc[행(문자), iloc[숫자(인덱스)] - 검색할때 이용\n",
    "print(growth.loc['2019']) #location\n",
    "print(growth.iloc[0]) # integer location"
   ]
  },
  {
   "cell_type": "markdown",
   "id": "f5a00e14-4a52-48d1-bb55-f127391fb720",
   "metadata": {},
   "source": [
    "##### 실습1. 시리즈 만들기"
   ]
  },
  {
   "cell_type": "code",
   "execution_count": 46,
   "id": "c271b911-ca5a-40d7-a6e4-428dc8406427",
   "metadata": {},
   "outputs": [
    {
     "name": "stdout",
     "output_type": "stream",
     "text": [
      "밀가루     4 cups\n",
      "우유       1 cup\n",
      "계란     2 large\n",
      "참치캔      1 can\n",
      "Name: Dinner, dtype: object\n"
     ]
    }
   ],
   "source": [
    "import pandas as pd\n",
    "\n",
    "data = [\"4 cups\", \"1 cup\", \"2 large\", \"1 can\"]\n",
    "index=[\"밀가루\", \"우유\", \"계란\", \"참치캔\"]\n",
    "\n",
    "dinner = pd.Series(data, index=index, name='Dinner')\n",
    "print(dinner)\n"
   ]
  }
 ],
 "metadata": {
  "kernelspec": {
   "display_name": "Python 3 (ipykernel)",
   "language": "python",
   "name": "python3"
  },
  "language_info": {
   "codemirror_mode": {
    "name": "ipython",
    "version": 3
   },
   "file_extension": ".py",
   "mimetype": "text/x-python",
   "name": "python",
   "nbconvert_exporter": "python",
   "pygments_lexer": "ipython3",
   "version": "3.12.4"
  }
 },
 "nbformat": 4,
 "nbformat_minor": 5
}
