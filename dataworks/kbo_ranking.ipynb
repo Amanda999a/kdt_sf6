{
 "cells": [
  {
   "cell_type": "markdown",
   "id": "0cbc7212-6978-4803-a985-f60f38b2deec",
   "metadata": {},
   "source": [
    "##### 한국 프로야구 성적표 작성하기"
   ]
  },
  {
   "cell_type": "code",
   "execution_count": 40,
   "id": "60ea035e-ade2-45ed-af39-0198c8fba42f",
   "metadata": {},
   "outputs": [
    {
     "name": "stdout",
     "output_type": "stream",
     "text": [
      "[<td>KIA</td>, <td>삼성</td>, <td>LG</td>, <td>두산</td>, <td>KT</td>, <td>SSG</td>, <td>한화</td>, <td>롯데</td>, <td>NC</td>, <td>키움</td>]\n"
     ]
    },
    {
     "data": {
      "text/plain": [
       "['0.600',\n",
       " '0.554',\n",
       " '0.538',\n",
       " '0.512',\n",
       " '0.488',\n",
       " '0.479',\n",
       " '0.479',\n",
       " '0.460',\n",
       " '0.448',\n",
       " '0.438']"
      ]
     },
     "execution_count": 40,
     "metadata": {},
     "output_type": "execute_result"
    }
   ],
   "source": [
    "import requests\n",
    "from bs4 import BeautifulSoup\n",
    "\n",
    "url = \"https://www.koreabaseball.com/Record/TeamRank/TeamRank.aspx\"\n",
    "# 요청과 응답\n",
    "response = requests.get(url)\n",
    "# print(response)\n",
    "# print(response.text)\n",
    "\n",
    "# html 파싱(기계어로 바꾸는 작업)\n",
    "soup = BeautifulSoup(response.text, 'html.parser')\n",
    "# print(soup)\n",
    "# 표 데이터 1개\n",
    "first_table = soup.select_one(\"table.tData > tbody\")\n",
    "# print(first_table)\n",
    "\n",
    "팀  = first_table.select(\"tr > td:nth-of-type(2)\")  #select라 리스트에 담김. nth-of-type[] - 고급 선택자\n",
    "print(팀)\n",
    "# [i for i in 팀]\n",
    "[i.text for i in 팀]\n",
    "\n",
    "승 = first_table.select(\"tr > td:nth-of-type(4)\")\n",
    "win = [i.text for i in 승]\n",
    "\n",
    "패 = first_table.select(\"tr > td:nth-of-type(5)\")\n",
    "lose = [i.text for i in 패]\n",
    "\n",
    "무 = first_table.select(\"tr > td:nth-of-type(6)\")\n",
    "draw = [i.text for i in 무]\n",
    "\n",
    "승률 = first_table.select(\"tr > td:nth-of-type(7)\")\n",
    "win_rate = [i.text for i in 승률]"
   ]
  },
  {
   "cell_type": "code",
   "execution_count": 44,
   "id": "471c1551-e7a4-462b-9272-a73f211e552c",
   "metadata": {},
   "outputs": [
    {
     "name": "stdout",
     "output_type": "stream",
     "text": [
      "================= 2024 한국 프로야구 성적표 =================\n",
      "순위\t팀\t승\t패\t무\t승률\n",
      "1\tKIA\t72\t48\t2\t0.600\n",
      "2\t삼성\t67\t54\t2\t0.554\n",
      "3\tLG\t64\t55\t2\t0.538\n",
      "4\t두산\t63\t60\t2\t0.512\n",
      "5\tKT\t59\t62\t2\t0.488\n",
      "6\tSSG\t58\t63\t1\t0.479\n",
      "7\t한화\t56\t61\t2\t0.479\n",
      "8\t롯데\t52\t61\t3\t0.460\n",
      "9\tNC\t52\t64\t2\t0.448\n",
      "10\t키움\t53\t68\t0\t0.438\n",
      "\n"
     ]
    }
   ],
   "source": [
    "import numpy as np\n",
    "\n",
    "순위  = 1 + np.arange(10) # 1 ~ 10까지 순서로 나옴\n",
    "팀 = np.array(team)\n",
    "승 = np.array(win)\n",
    "패 = np.array(lose)\n",
    "무 = np.array(draw)\n",
    "승률 = np.array(win_rate)\n",
    "\n",
    "# 쓰기\n",
    "with open(\"./datas/2024kbo.txt\", 'w') as f:\n",
    "    f.write(\"================= 2024 한국 프로야구 성적표 =================\\n\")\n",
    "    header = \"순위\\t팀\\t승\\t패\\t무\\t승률\\n\"\n",
    "    f.write(header)\n",
    "    for i in range(len(순위)):\n",
    "        txt = f'{순위[i]}\\t{팀[i]}\\t{승[i]}\\t{패[i]}\\t{무[i]}\\t{승률[i]}\\n'\n",
    "        f.write(txt)\n",
    "# 파일에서 읽어오기\n",
    "with open(\"./datas/2024kbo.txt\", 'r') as f:\n",
    "    data = f.read()\n",
    "    print(data)"
   ]
  }
 ],
 "metadata": {
  "kernelspec": {
   "display_name": "Python 3 (ipykernel)",
   "language": "python",
   "name": "python3"
  },
  "language_info": {
   "codemirror_mode": {
    "name": "ipython",
    "version": 3
   },
   "file_extension": ".py",
   "mimetype": "text/x-python",
   "name": "python",
   "nbconvert_exporter": "python",
   "pygments_lexer": "ipython3",
   "version": "3.12.4"
  }
 },
 "nbformat": 4,
 "nbformat_minor": 5
}
